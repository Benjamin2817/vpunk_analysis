{
 "cells": [
  {
   "cell_type": "code",
   "execution_count": 1,
   "metadata": {},
   "outputs": [],
   "source": [
    "from bs4 import BeautifulSoup\n",
    "from selenium import webdriver\n",
    "\n",
    "import pandas as pd\n",
    "import re\n",
    "import time"
   ]
  },
  {
   "cell_type": "code",
   "execution_count": 2,
   "metadata": {},
   "outputs": [],
   "source": [
    "path = 'C:\\Program Files (x86)\\chromedriver'"
   ]
  },
  {
   "cell_type": "code",
   "execution_count": 3,
   "metadata": {},
   "outputs": [],
   "source": [
    "driver = webdriver.Chrome(path)"
   ]
  },
  {
   "cell_type": "code",
   "execution_count": 4,
   "metadata": {},
   "outputs": [],
   "source": [
    "url = 'https://vpunks.com/#/punks/index'\n",
    "## Sleep gives the browser time to load before grabbing code\n",
    "driver.get(url)\n",
    "time.sleep(10)"
   ]
  },
  {
   "cell_type": "code",
   "execution_count": 5,
   "metadata": {},
   "outputs": [],
   "source": [
    "columns = ['V_Punk', 'Gender', 'Attributes']\n",
    "big_v_punk_DataFrame = pd.DataFrame(columns=columns)"
   ]
  },
  {
   "cell_type": "code",
   "execution_count": 6,
   "metadata": {},
   "outputs": [],
   "source": [
    "for i in range(5):\n",
    "    vpunk_html = driver.page_source\n",
    "    vpunk_soup = BeautifulSoup(vpunk_html, 'html.parser')\n",
    "    \n",
    "    time.sleep(3)\n",
    "    big_chunk = vpunk_soup.find_all('div', class_='panel-group el-row')\n",
    "    little_chunks = big_chunk[0].find_all('div', attrs={'class':re.compile('^card-panel-col*')})\n",
    "\n",
    "    v_punk_DataFrame = pd.DataFrame(columns=columns)\n",
    "\n",
    "    for each_div in little_chunks:\n",
    "        number = each_div.find('div', class_='card-panel-text').text.split()\n",
    "        temp_attributes = []\n",
    "        for attribute in each_div.find_all('span', class_='card-panel-acces'):\n",
    "            temp_attributes.append(attribute.text)\n",
    "        temp_dict = {'V_Punk':number[:2], 'Gender':number[2], 'Attributes':temp_attributes}\n",
    "        v_punk_DataFrame = v_punk_DataFrame.append(temp_dict, ignore_index=True)\n",
    "    big_v_punk_DataFrame = pd.concat([big_v_punk_DataFrame, v_punk_DataFrame], axis=0)\n",
    "    next_page = driver.find_element_by_class_name('btn-next')\n",
    "    next_page.click()"
   ]
  },
  {
   "cell_type": "code",
   "execution_count": 7,
   "metadata": {},
   "outputs": [],
   "source": [
    "# Move to end of notebook eventually\n",
    "driver.quit()"
   ]
  },
  {
   "cell_type": "code",
   "execution_count": 8,
   "metadata": {},
   "outputs": [
    {
     "data": {
      "text/html": [
       "<div>\n",
       "<style scoped>\n",
       "    .dataframe tbody tr th:only-of-type {\n",
       "        vertical-align: middle;\n",
       "    }\n",
       "\n",
       "    .dataframe tbody tr th {\n",
       "        vertical-align: top;\n",
       "    }\n",
       "\n",
       "    .dataframe thead th {\n",
       "        text-align: right;\n",
       "    }\n",
       "</style>\n",
       "<table border=\"1\" class=\"dataframe\">\n",
       "  <thead>\n",
       "    <tr style=\"text-align: right;\">\n",
       "      <th></th>\n",
       "      <th>V_Punk</th>\n",
       "      <th>Gender</th>\n",
       "      <th>Attributes</th>\n",
       "    </tr>\n",
       "  </thead>\n",
       "  <tbody>\n",
       "    <tr>\n",
       "      <th>0</th>\n",
       "      <td>[VPunk, 0]</td>\n",
       "      <td>Female</td>\n",
       "      <td>[Green Eye Shadow, Earring, Blonde Bob]</td>\n",
       "    </tr>\n",
       "    <tr>\n",
       "      <th>1</th>\n",
       "      <td>[VPunk, 1]</td>\n",
       "      <td>Male</td>\n",
       "      <td>[Smile, Mohawk]</td>\n",
       "    </tr>\n",
       "    <tr>\n",
       "      <th>2</th>\n",
       "      <td>[VPunk, 2]</td>\n",
       "      <td>Female</td>\n",
       "      <td>[Wild Hair]</td>\n",
       "    </tr>\n",
       "    <tr>\n",
       "      <th>3</th>\n",
       "      <td>[VPunk, 3]</td>\n",
       "      <td>Male</td>\n",
       "      <td>[Wild Hair, Nerd Glasses, Pipe]</td>\n",
       "    </tr>\n",
       "    <tr>\n",
       "      <th>4</th>\n",
       "      <td>[VPunk, 4]</td>\n",
       "      <td>Male</td>\n",
       "      <td>[Big Shades, Wild Hair, Earring, Goat]</td>\n",
       "    </tr>\n",
       "    <tr>\n",
       "      <th>...</th>\n",
       "      <td>...</td>\n",
       "      <td>...</td>\n",
       "      <td>...</td>\n",
       "    </tr>\n",
       "    <tr>\n",
       "      <th>95</th>\n",
       "      <td>[VPunk, 495]</td>\n",
       "      <td>Male</td>\n",
       "      <td>[Crazy Hair, Smile]</td>\n",
       "    </tr>\n",
       "    <tr>\n",
       "      <th>96</th>\n",
       "      <td>[VPunk, 496]</td>\n",
       "      <td>Male</td>\n",
       "      <td>[Normal Beard Black, Cap, Earring, Small Shades]</td>\n",
       "    </tr>\n",
       "    <tr>\n",
       "      <th>97</th>\n",
       "      <td>[VPunk, 497]</td>\n",
       "      <td>Male</td>\n",
       "      <td>[Peak Spike, Mustache]</td>\n",
       "    </tr>\n",
       "    <tr>\n",
       "      <th>98</th>\n",
       "      <td>[VPunk, 498]</td>\n",
       "      <td>Female</td>\n",
       "      <td>[Blonde Short, Earring]</td>\n",
       "    </tr>\n",
       "    <tr>\n",
       "      <th>99</th>\n",
       "      <td>[VPunk, 499]</td>\n",
       "      <td>Female</td>\n",
       "      <td>[Welding Goggles, Straight Hair Blonde, Cigare...</td>\n",
       "    </tr>\n",
       "  </tbody>\n",
       "</table>\n",
       "<p>500 rows × 3 columns</p>\n",
       "</div>"
      ],
      "text/plain": [
       "          V_Punk  Gender                                         Attributes\n",
       "0     [VPunk, 0]  Female            [Green Eye Shadow, Earring, Blonde Bob]\n",
       "1     [VPunk, 1]    Male                                    [Smile, Mohawk]\n",
       "2     [VPunk, 2]  Female                                        [Wild Hair]\n",
       "3     [VPunk, 3]    Male                    [Wild Hair, Nerd Glasses, Pipe]\n",
       "4     [VPunk, 4]    Male             [Big Shades, Wild Hair, Earring, Goat]\n",
       "..           ...     ...                                                ...\n",
       "95  [VPunk, 495]    Male                                [Crazy Hair, Smile]\n",
       "96  [VPunk, 496]    Male   [Normal Beard Black, Cap, Earring, Small Shades]\n",
       "97  [VPunk, 497]    Male                             [Peak Spike, Mustache]\n",
       "98  [VPunk, 498]  Female                            [Blonde Short, Earring]\n",
       "99  [VPunk, 499]  Female  [Welding Goggles, Straight Hair Blonde, Cigare...\n",
       "\n",
       "[500 rows x 3 columns]"
      ]
     },
     "execution_count": 8,
     "metadata": {},
     "output_type": "execute_result"
    }
   ],
   "source": [
    "big_v_punk_DataFrame"
   ]
  },
  {
   "cell_type": "code",
   "execution_count": 9,
   "metadata": {},
   "outputs": [],
   "source": [
    "#nyc_tree.to_csv('data/nyc_tree.csv', index=False)\n",
    "big_v_punk_DataFrame.to_csv('data/big_v_punk.csv', index=False)"
   ]
  }
 ],
 "metadata": {
  "kernelspec": {
   "display_name": "Python 3",
   "language": "python",
   "name": "python3"
  },
  "language_info": {
   "codemirror_mode": {
    "name": "ipython",
    "version": 3
   },
   "file_extension": ".py",
   "mimetype": "text/x-python",
   "name": "python",
   "nbconvert_exporter": "python",
   "pygments_lexer": "ipython3",
   "version": "3.8.5"
  }
 },
 "nbformat": 4,
 "nbformat_minor": 4
}
